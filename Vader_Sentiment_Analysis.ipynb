{
 "cells": [
  {
   "cell_type": "code",
   "execution_count": 5,
   "metadata": {
    "collapsed": true
   },
   "outputs": [],
   "source": [
    "import pandas as pd\n",
    "import numpy as np\n",
    "import string,re,nltk,glob"
   ]
  },
  {
   "cell_type": "code",
   "execution_count": 14,
   "metadata": {},
   "outputs": [],
   "source": [
    "from vaderSentiment.vaderSentiment import SentimentIntensityAnalyzer\n",
    "\n",
    "analyser = SentimentIntensityAnalyzer()\n",
    "vaderSentiment."
   ]
  },
  {
   "cell_type": "code",
   "execution_count": 2,
   "metadata": {
    "collapsed": true
   },
   "outputs": [],
   "source": [
    "def print_sentiment_scores(sentence):\n",
    "    snt = analyser.polarity_scores(sentence)\n",
    "    print(\"{:-<40} {}\".format(sentence, str(snt)))"
   ]
  },
  {
   "cell_type": "code",
   "execution_count": 3,
   "metadata": {},
   "outputs": [
    {
     "name": "stdout",
     "output_type": "stream",
     "text": [
      "I just got a call from my boss - does he realise it's Saturday? {'neg': 0.0, 'neu': 1.0, 'pos': 0.0, 'compound': 0.0}\n"
     ]
    }
   ],
   "source": [
    "print_sentiment_scores(\"I just got a call from my boss - does he realise it's Saturday?\")"
   ]
  },
  {
   "cell_type": "code",
   "execution_count": 4,
   "metadata": {},
   "outputs": [
    {
     "name": "stdout",
     "output_type": "stream",
     "text": [
      "I hate that guy.. he makes me sick------ {'neg': 0.583, 'neu': 0.417, 'pos': 0.0, 'compound': -0.7906}\n"
     ]
    }
   ],
   "source": [
    "print_sentiment_scores(\"I hate that guy.. he makes me sick\")"
   ]
  },
  {
   "cell_type": "code",
   "execution_count": 6,
   "metadata": {
    "collapsed": true
   },
   "outputs": [],
   "source": [
    "path =r'C:\\Users\\Akshat\\AppData\\Roaming\\nltk_data\\corpora\\movie_reviews\\neg' # use your path\n",
    "allFiles = glob.glob(path + \"/*.txt\")\n",
    "frame = pd.DataFrame()\n",
    "list_ = []\n",
    "for file_ in allFiles:\n",
    "    df = pd.read_table(file_, header=None)\n",
    "    list_.append(df)\n",
    "frame = pd.concat(list_)"
   ]
  },
  {
   "cell_type": "code",
   "execution_count": 7,
   "metadata": {
    "collapsed": true
   },
   "outputs": [],
   "source": [
    "frame['label']=0"
   ]
  },
  {
   "cell_type": "code",
   "execution_count": 8,
   "metadata": {
    "collapsed": true
   },
   "outputs": [],
   "source": [
    "frame=frame.head(5000)"
   ]
  },
  {
   "cell_type": "code",
   "execution_count": 9,
   "metadata": {
    "collapsed": true
   },
   "outputs": [],
   "source": [
    "path =r'C:\\Users\\Akshat\\AppData\\Roaming\\nltk_data\\corpora\\movie_reviews\\pos' # use your path\n",
    "allFiles = glob.glob(path + \"/*.txt\")\n",
    "frame2 = pd.DataFrame()\n",
    "list_ = []\n",
    "for file_ in allFiles:\n",
    "    df = pd.read_table(file_, header=None)\n",
    "    list_.append(df)\n",
    "frame2 = pd.concat(list_)"
   ]
  },
  {
   "cell_type": "code",
   "execution_count": 10,
   "metadata": {
    "collapsed": true
   },
   "outputs": [],
   "source": [
    "frame2['label']=1"
   ]
  },
  {
   "cell_type": "code",
   "execution_count": 11,
   "metadata": {
    "collapsed": true
   },
   "outputs": [],
   "source": [
    "frame2=frame2.head(5000)"
   ]
  },
  {
   "cell_type": "code",
   "execution_count": 28,
   "metadata": {
    "collapsed": true
   },
   "outputs": [],
   "source": [
    "final_data=frame.append(frame2)"
   ]
  },
  {
   "cell_type": "code",
   "execution_count": 18,
   "metadata": {},
   "outputs": [],
   "source": [
    "final_data.head()\n",
    "stopwords=nltk.corpus.stopwords.words('english')"
   ]
  },
  {
   "cell_type": "code",
   "execution_count": 20,
   "metadata": {
    "collapsed": true
   },
   "outputs": [],
   "source": [
    "def clean_text(text):\n",
    "    text = \"\".join([word for word in text if word not in string.punctuation])\n",
    "    tokens = re.split('\\W+', text)\n",
    "    text = [(word) for word in tokens if word not in stopwords]\n",
    "    return text"
   ]
  },
  {
   "cell_type": "code",
   "execution_count": 21,
   "metadata": {},
   "outputs": [],
   "source": [
    "final_data[0] = final_data[0].apply(lambda x: clean_text(x))"
   ]
  },
  {
   "cell_type": "code",
   "execution_count": 33,
   "metadata": {},
   "outputs": [
    {
     "name": "stdout",
     "output_type": "stream",
     "text": [
      "pos or neg or neu for plot : two teen couples go to a church party , drink and then drive .  is pos 0.197 neg 0.0 neu 0.803\n",
      "pos or neg or neu for they get into an accident .  is pos 0.0 neg 0.437 neu 0.563\n",
      "pos or neg or neu for one of the guys dies , but his girlfriend continues to see him in her life , and has nightmares .  is pos 0.0 neg 0.0 neu 1.0\n",
      "pos or neg or neu for what's the deal ?  is pos 0.0 neg 0.0 neu 1.0\n",
      "pos or neg or neu for watch the movie and \" sorta \" find out . . .  is pos 0.0 neg 0.0 neu 1.0\n",
      "pos or neg or neu for critique : a mind-fuck movie for the teen generation that touches on a very cool idea , but presents it in a very bad package .  is pos 0.072 neg 0.208 neu 0.72\n",
      "pos or neg or neu for which is what makes this review an even harder one to write , since i generally applaud films which attempt to break the mold , mess with your head and such ( lost highway & memento ) , but there are good and bad ways of making all types of films , and these folks just didn't snag this one correctly .  is pos 0.094 neg 0.131 neu 0.774\n",
      "pos or neg or neu for they seem to have taken this pretty neat concept , but executed it terribly .  is pos 0.227 neg 0.254 neu 0.519\n",
      "pos or neg or neu for so what are the problems with the movie ?  is pos 0.0 neg 0.278 neu 0.722\n",
      "pos or neg or neu for well , its main problem is that it's simply too jumbled .  is pos 0.164 neg 0.211 neu 0.625\n",
      "pos or neg or neu for it starts off \" normal \" but then downshifts into this \" fantasy \" world in which you , as an audience member , have no idea what's going on .  is pos 0.0 neg 0.109 neu 0.891\n",
      "pos or neg or neu for there are dreams , there are characters coming back from the dead , there are others who look like the dead , there are strange apparitions , there are disappearances , there are a looooot of chase scenes , there are tons of weird things that happen , and most of it is simply not explained .  is pos 0.088 neg 0.204 neu 0.708\n",
      "pos or neg or neu for now i personally don't mind trying to unravel a film every now and then , but when all it does is give me the same clue over and over again , i get kind of fed up after a while , which is this film's biggest problem .  is pos 0.0 neg 0.083 neu 0.917\n",
      "pos or neg or neu for it's obviously got this big secret to hide , but it seems to want to hide it completely until its final five minutes .  is pos 0.061 neg 0.143 neu 0.797\n",
      "pos or neg or neu for and do they make things entertaining , thrilling or even engaging , in the meantime ?  is pos 0.457 neg 0.0 neu 0.543\n",
      "pos or neg or neu for not really .  is pos 0.0 neg 0.0 neu 1.0\n",
      "pos or neg or neu for the sad part is that the arrow and i both dig on flicks like this , so we actually figured most of it out by the half-way point , so all of the strangeness after that did start to make a little bit of sense , but it still didn't the make the film all that more entertaining .  is pos 0.104 neg 0.035 neu 0.861\n",
      "pos or neg or neu for i guess the bottom line with movies like this is that you should always make sure that the audience is \" into it \" even before they are given the secret password to enter your world of understanding .  is pos 0.127 neg 0.0 neu 0.873\n",
      "pos or neg or neu for i mean , showing melissa sagemiller running away from visions for about 20 minutes throughout the movie is just plain lazy ! !  is pos 0.086 neg 0.14 neu 0.773\n",
      "pos or neg or neu for okay , we get it . . . there  is pos 0.322 neg 0.0 neu 0.678\n",
      "pos or neg or neu for are people chasing her and we don't know who they are .  is pos 0.0 neg 0.0 neu 1.0\n",
      "pos or neg or neu for do we really need to see it over and over again ?  is pos 0.0 neg 0.0 neu 1.0\n",
      "pos or neg or neu for how about giving us different scenes offering further insight into all of the strangeness going down in the movie ?  is pos 0.118 neg 0.0 neu 0.882\n",
      "pos or neg or neu for apparently , the studio took this film away from its director and chopped it up themselves , and it shows .  is pos 0.0 neg 0.0 neu 1.0\n",
      "pos or neg or neu for there might've been a pretty decent teen mind-fuck movie in here somewhere , but i guess \" the suits \" decided that turning it into a music video with little edge , would make more sense .  is pos 0.07 neg 0.0 neu 0.93\n",
      "pos or neg or neu for the actors are pretty good for the most part , although wes bentley just seemed to be playing the exact same character that he did in american beauty , only in a new neighborhood .  is pos 0.302 neg 0.0 neu 0.698\n",
      "pos or neg or neu for but my biggest kudos go out to sagemiller , who holds her own throughout the entire film , and actually has you feeling her character's unraveling .  is pos 0.22 neg 0.0 neu 0.78\n",
      "pos or neg or neu for overall , the film doesn't stick because it doesn't entertain , it's confusing , it rarely excites and it feels pretty redundant for most of its runtime , despite a pretty cool ending and explanation to all of the craziness that came before it .  is pos 0.164 neg 0.185 neu 0.651\n",
      "pos or neg or neu for oh , and by the way , this is not a horror or teen slasher flick . . . it's  is pos 0.187 neg 0.0 neu 0.813\n",
      "pos or neg or neu for just packaged to look that way because someone is apparently assuming that the genre is still hot with the kids .  is pos 0.0 neg 0.0 neu 1.0\n",
      "pos or neg or neu for it also wrapped production two years ago and has been sitting on the shelves ever since .  is pos 0.0 neg 0.0 neu 1.0\n",
      "pos or neg or neu for whatever . . . skip  is pos 0.0 neg 0.0 neu 1.0\n",
      "pos or neg or neu for it !  is pos 0.0 neg 0.0 neu 1.0\n",
      "pos or neg or neu for where's joblo coming from ?  is pos 0.0 neg 0.0 neu 1.0\n",
      "pos or neg or neu for a nightmare of elm street 3 ( 7/10 ) - blair witch 2 ( 7/10 ) - the crow ( 9/10 ) - the crow : salvation ( 4/10 ) - lost highway ( 10/10 ) - memento ( 10/10 ) - the others ( 9/10 ) - stir of echoes ( 8/10 )  is pos 0.0 neg 0.161 neu 0.839\n",
      "pos or neg or neu for the happy bastard's quick movie review  is pos 0.425 neg 0.0 neu 0.575\n",
      "pos or neg or neu for damn that y2k bug .  is pos 0.0 neg 0.474 neu 0.526\n",
      "pos or neg or neu for it's got a head start in this movie starring jamie lee curtis and another baldwin brother ( william this time ) in a story regarding a crew of a tugboat that comes across a deserted russian tech ship that has a strangeness to it when they kick the power back on .  is pos 0.0 neg 0.0 neu 1.0\n",
      "pos or neg or neu for little do they know the power within . . .  is pos 0.0 neg 0.0 neu 1.0\n",
      "pos or neg or neu for going for the gore and bringing on a few action sequences here and there , virus still feels very empty , like a movie going for all flash and no substance .  is pos 0.089 neg 0.138 neu 0.772\n",
      "pos or neg or neu for we don't know why the crew was really out in the middle of nowhere , we don't know the origin of what took over the ship ( just that a big pink flashy thing hit the mir ) , and , of course , we don't know why donald sutherland is stumbling around drunkenly throughout .  is pos 0.0 neg 0.0 neu 1.0\n",
      "pos or neg or neu for here , it's just \" hey , let's chase these people around with some robots \" .  is pos 0.0 neg 0.0 neu 1.0\n",
      "pos or neg or neu for the acting is below average , even from the likes of curtis .  is pos 0.219 neg 0.0 neu 0.781\n",
      "pos or neg or neu for you're more likely to get a kick out of her work in halloween h20 .  is pos 0.0 neg 0.0 neu 1.0\n",
      "pos or neg or neu for sutherland is wasted and baldwin , well , he's acting like a baldwin , of course .  is pos 0.274 neg 0.19 neu 0.536\n",
      "pos or neg or neu for the real star here are stan winston's robot design , some schnazzy cgi , and the occasional good gore shot , like picking into someone's brain .  is pos 0.205 neg 0.0 neu 0.795\n",
      "pos or neg or neu for so , if robots and body parts really turn you on , here's your movie .  is pos 0.0 neg 0.0 neu 1.0\n",
      "pos or neg or neu for otherwise , it's pretty much a sunken ship of a movie .  is pos 0.314 neg 0.0 neu 0.686\n",
      "pos or neg or neu for it is movies like these that make a jaded movie viewer thankful for the invention of the timex indiglo watch .  is pos 0.25 neg 0.105 neu 0.645\n",
      "pos or neg or neu for based on the late 1960's television show by the same name , the mod squad tells the tale of three reformed criminals under the employ of the police to go undercover .  is pos 0.0 neg 0.113 neu 0.887\n",
      "pos or neg or neu for however , things go wrong as evidence gets stolen and they are immediately under suspicion .  is pos 0.0 neg 0.447 neu 0.553\n",
      "pos or neg or neu for of course , the ads make it seem like so much more .  is pos 0.2 neg 0.0 neu 0.8\n",
      "pos or neg or neu for quick cuts , cool music , claire dane's nice hair and cute outfits , car chases , stuff blowing up , and the like .  is pos 0.396 neg 0.082 neu 0.522\n",
      "pos or neg or neu for sounds like a cool movie , does it not ?  is pos 0.49 neg 0.0 neu 0.51\n",
      "pos or neg or neu for after the first fifteen minutes , it quickly becomes apparent that it is not .  is pos 0.0 neg 0.0 neu 1.0\n",
      "pos or neg or neu for the mod squad is certainly a slick looking production , complete with nice hair and costumes , but that simply isn't enough .  is pos 0.175 neg 0.0 neu 0.825\n",
      "pos or neg or neu for the film is best described as a cross between an hour-long cop show and a music video , both stretched out into the span of an hour and a half .  is pos 0.144 neg 0.0 neu 0.856\n",
      "pos or neg or neu for and with it comes every single clich ? .  is pos 0.0 neg 0.0 neu 1.0\n",
      "pos or neg or neu for it doesn't really matter that the film is based on a television show , as most of the plot elements have been recycled from everything we've already seen .  is pos 0.0 neg 0.049 neu 0.951\n",
      "pos or neg or neu for the characters and acting is nothing spectacular , sometimes even bordering on wooden .  is pos 0.0 neg 0.0 neu 1.0\n",
      "pos or neg or neu for claire danes and omar epps deliver their lines as if they are bored , which really transfers onto the audience .  is pos 0.0 neg 0.104 neu 0.896\n",
      "pos or neg or neu for the only one to escape relatively unscathed is giovanni ribisi , who plays the resident crazy man , ultimately being the only thing worth watching .  is pos 0.207 neg 0.089 neu 0.704\n",
      "pos or neg or neu for unfortunately , even he's not enough to save this convoluted mess , as all the characters don't do much apart from occupying screen time .  is pos 0.0 neg 0.284 neu 0.716\n",
      "pos or neg or neu for with the young cast , cool clothes , nice hair , and hip soundtrack , it appears that the film is geared towards the teenage mindset .  is pos 0.203 neg 0.0 neu 0.797\n",
      "pos or neg or neu for despite an american 'r' rating ( which the content does not justify ) , the film is way too juvenile for the older mindset .  is pos 0.0 neg 0.0 neu 1.0\n",
      "pos or neg or neu for information on the characters is literally spoon-fed to the audience ( would it be that hard to show us instead of telling us ? ) , dialogue is poorly written , and the plot is extremely predictable .  is pos 0.0 neg 0.043 neu 0.957\n",
      "pos or neg or neu for the way the film progresses , you likely won't even care if the heroes are in any jeopardy , because you'll know they aren't .  is pos 0.118 neg 0.204 neu 0.678\n",
      "pos or neg or neu for basing the show on a 1960's television show that nobody remembers is of questionable wisdom , especially when one considers the target audience and the fact that the number of memorable films based on television shows can be counted on one hand ( even one that's missing a finger or two ) .  is pos 0.145 neg 0.081 neu 0.773\n",
      "pos or neg or neu for the number of times that i checked my watch ( six ) is a clear indication that this film is not one of them .  is pos 0.178 neg 0.0 neu 0.822\n",
      "pos or neg or neu for it is clear that the film is nothing more than an attempt to cash in on the teenage spending dollar , judging from the rash of really awful teen-flicks that we've been seeing as of late .  is pos 0.064 neg 0.148 neu 0.788\n",
      "pos or neg or neu for avoid this film at all costs .  is pos 0.0 neg 0.306 neu 0.694\n",
      "pos or neg or neu for  \" quest for camelot \" is warner bros . ' first feature-length , fully-animated attempt to steal clout from disney's cartoon empire , but the mouse has no reason to be worried .  is pos 0.0 neg 0.251 neu 0.749\n",
      "pos or neg or neu for the only other recent challenger to their throne was last fall's promising , if flawed , 20th century fox production \" anastasia , \" but disney's \" hercules , \" with its lively cast and colorful palate , had her beat hands-down when it came time to crown 1997's best piece of animation .  is pos 0.242 neg 0.0 neu 0.758\n",
      "pos or neg or neu for this year , it's no contest , as \" quest for camelot \" is pretty much dead on arrival .  is pos 0.147 neg 0.3 neu 0.553\n",
      "pos or neg or neu for even the magic kingdom at its most mediocre -- that'd be \" pocahontas \" for those of you keeping score -- isn't nearly as dull as this .  is pos 0.086 neg 0.0 neu 0.914\n",
      "pos or neg or neu for the story revolves around the adventures of free-spirited kayley ( voiced by jessalyn gilsig ) , the early-teen daughter of a belated knight from king arthur's round table .  is pos 0.094 neg 0.0 neu 0.906\n",
      "pos or neg or neu for kayley's only dream is to follow in her father's footsteps , and she gets her chance when evil warlord ruber ( gary oldman ) , an ex-round table member-gone-bad , steals arthur's magical sword excalibur and accidentally loses it in a dangerous , booby-trapped forest .  is pos 0.079 neg 0.307 neu 0.614\n",
      "pos or neg or neu for with the help of hunky , blind timberland-dweller garrett ( carey elwes ) and a two-headed dragon ( eric idle and don rickles ) that's always arguing with itself , kayley just might be able to break the medieval sexist mold and prove her worth as a fighter on arthur's side .  is pos 0.124 neg 0.114 neu 0.762\n",
      "pos or neg or neu for  \" quest for camelot \" is missing pure showmanship , an essential element if it's ever expected to climb to the high ranks of disney .  is pos 0.0 neg 0.095 neu 0.905\n",
      "pos or neg or neu for there's nothing here that differentiates \" quest \" from something you'd see on any given saturday morning cartoon -- subpar animation , instantly forgettable songs , poorly-integrated computerized footage .  is pos 0.0 neg 0.0 neu 1.0\n",
      "pos or neg or neu for  ( compare kayley and garrett's run-in with the angry ogre to herc's battle with the hydra .  is pos 0.0 neg 0.312 neu 0.688\n",
      "pos or neg or neu for i rest my case . )  is pos 0.0 neg 0.0 neu 1.0\n",
      "pos or neg or neu for even the characters stink -- none of them are remotely interesting , so much that the film becomes a race to see which one can out-bland the others .  is pos 0.092 neg 0.092 neu 0.816\n",
      "pos or neg or neu for in the end , it's a tie -- they all win .  is pos 0.322 neg 0.0 neu 0.678\n",
      "pos or neg or neu for that dragon's comedy shtick is awfully cloying , but at least it shows signs of a pulse .  is pos 0.111 neg 0.0 neu 0.889\n",
      "pos or neg or neu for at least fans of the early-'90s tgif television line-up will be thrilled to find jaleel \" urkel \" white and bronson \" balki \" pinchot sharing the same footage .  is pos 0.29 neg 0.0 neu 0.71\n",
      "pos or neg or neu for a few scenes are nicely realized ( though i'm at a loss to recall enough to be specific ) , and the actors providing the voice talent are enthusiastic ( though most are paired up with singers who don't sound a thing like them for their big musical moments -- jane seymour and celine dion ? ? ? ) .  is pos 0.166 neg 0.078 neu 0.756\n",
      "pos or neg or neu for but one must strain through too much of this mess to find the good .  is pos 0.193 neg 0.256 neu 0.551\n",
      "pos or neg or neu for aside from the fact that children will probably be as bored watching this as adults , \" quest for camelot \" 's most grievous error is its complete lack of personality .  is pos 0.0 neg 0.308 neu 0.692\n",
      "pos or neg or neu for and personality , we learn from this mess , goes a very long way .  is pos 0.0 neg 0.223 neu 0.777\n",
      "pos or neg or neu for synopsis : a mentally unstable man undergoing psychotherapy saves a boy from a potentially fatal accident and then falls in love with the boy's mother , a fledgling restauranteur .  is pos 0.13 neg 0.282 neu 0.588\n",
      "pos or neg or neu for unsuccessfully attempting to gain the woman's favor , he takes pictures of her and kills a number of people in his way .  is pos 0.259 neg 0.217 neu 0.524\n",
      "pos or neg or neu for comments : stalked is yet another in a seemingly endless string of spurned-psychos-getting-their-revenge type movies which are a stable category in the 1990s film industry , both theatrical and direct-to-video .  is pos 0.081 neg 0.0 neu 0.919\n",
      "pos or neg or neu for their proliferation may be due in part to the fact that they're typically inexpensive to produce ( no special effects , no big name stars ) and serve as vehicles to flash nudity ( allowing them to frequent late-night cable television ) .  is pos 0.066 neg 0.107 neu 0.827\n",
      "pos or neg or neu for stalked wavers slightly from the norm in one respect : the psycho never actually has an affair ; on the contrary , he's rejected rather quickly ( the psycho typically is an ex-lover , ex-wife , or ex-husband ) .  is pos 0.085 neg 0.091 neu 0.824\n",
      "pos or neg or neu for other than that , stalked is just another redundant entry doomed to collect dust on video shelves and viewed after midnight on cable .  is pos 0.0 neg 0.167 neu 0.833\n",
      "pos or neg or neu for stalked does not provide much suspense , though that is what it sets out to do .  is pos 0.0 neg 0.0 neu 1.0\n",
      "pos or neg or neu for interspersed throughout the opening credits , for instance , a serious-sounding narrator spouts statistics about stalkers and ponders what may cause a man to stalk ( it's implicitly implied that all stalkers are men ) while pictures of a boy are shown on the screen .  is pos 0.063 neg 0.0 neu 0.937\n",
      "pos or neg or neu for after these credits , a snapshot of actor jay underwood appears .  is pos 0.238 neg 0.0 neu 0.762\n",
      "pos or neg or neu for the narrator states that \" this is the story of daryl gleason \" and tells the audience that he is the stalker .  is pos 0.0 neg 0.0 neu 1.0\n"
     ]
    }
   ],
   "source": [
    "pos_count = 0\n",
    "pos_correct = 0\n",
    "for i in final_data[0][0:100]:\n",
    "        vs=analyser.polarity_scores(i)\n",
    "        print('pos or neg or neu for {} is pos {} neg {} neu {}'.format(i,vs['pos'],vs['neg'],vs['neu']))"
   ]
  },
  {
   "cell_type": "code",
   "execution_count": 31,
   "metadata": {},
   "outputs": [
    {
     "data": {
      "text/plain": [
       "0.167"
      ]
     },
     "execution_count": 31,
     "metadata": {},
     "output_type": "execute_result"
    }
   ],
   "source": []
  }
 ],
 "metadata": {
  "kernelspec": {
   "display_name": "Python 3",
   "language": "python",
   "name": "python3"
  },
  "language_info": {
   "codemirror_mode": {
    "name": "ipython",
    "version": 3
   },
   "file_extension": ".py",
   "mimetype": "text/x-python",
   "name": "python",
   "nbconvert_exporter": "python",
   "pygments_lexer": "ipython3",
   "version": "3.6.1"
  }
 },
 "nbformat": 4,
 "nbformat_minor": 2
}
