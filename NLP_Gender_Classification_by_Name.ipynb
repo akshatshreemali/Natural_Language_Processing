{
 "cells": [
  {
   "cell_type": "code",
   "execution_count": 1,
   "metadata": {},
   "outputs": [],
   "source": [
    "import nltk\n",
    "from nltk.corpus import names"
   ]
  },
  {
   "cell_type": "code",
   "execution_count": 2,
   "metadata": {},
   "outputs": [],
   "source": [
    "names = ([(name, 'male') for name in names.words('male.txt')] + [(name, 'female') for name in names.words('female.txt')])"
   ]
  },
  {
   "cell_type": "code",
   "execution_count": 5,
   "metadata": {},
   "outputs": [
    {
     "data": {
      "text/plain": [
       "[('Aamir', 'male'),\n",
       " ('Aaron', 'male'),\n",
       " ('Abbey', 'male'),\n",
       " ('Abbie', 'male'),\n",
       " ('Abbot', 'male'),\n",
       " ('Abbott', 'male'),\n",
       " ('Abby', 'male'),\n",
       " ('Abdel', 'male'),\n",
       " ('Abdul', 'male'),\n",
       " ('Abdulkarim', 'male')]"
      ]
     },
     "execution_count": 5,
     "metadata": {},
     "output_type": "execute_result"
    }
   ],
   "source": [
    "names[0:10]"
   ]
  },
  {
   "cell_type": "code",
   "execution_count": 3,
   "metadata": {},
   "outputs": [],
   "source": [
    "import random\n",
    "random.shuffle(names)"
   ]
  },
  {
   "cell_type": "code",
   "execution_count": null,
   "metadata": {
    "collapsed": true
   },
   "outputs": [],
   "source": [
    "def gender_features(word):\n",
    "     return {'last_letter': word[-1]}"
   ]
  },
  {
   "cell_type": "code",
   "execution_count": 28,
   "metadata": {
    "collapsed": true
   },
   "outputs": [],
   "source": [
    "def gender_features2(word):\n",
    "    feature={}\n",
    "    feature['fnmae']=word[0].lower()\n",
    "    feature['lname']=word[-1].lower()\n",
    "    return feature\n",
    "    \n",
    "        "
   ]
  },
  {
   "cell_type": "code",
   "execution_count": 18,
   "metadata": {
    "collapsed": true
   },
   "outputs": [],
   "source": [
    "from nltk import classify"
   ]
  },
  {
   "cell_type": "code",
   "execution_count": 57,
   "metadata": {
    "collapsed": true
   },
   "outputs": [],
   "source": [
    "model=nb.train(train_set)"
   ]
  },
  {
   "cell_type": "code",
   "execution_count": 4,
   "metadata": {},
   "outputs": [],
   "source": [
    "def gender_features4(name):\n",
    "    features = {}\n",
    "    features[\"fl\"] = name[0].lower()\n",
    "    features[\"ll\"] = name[-1].lower()\n",
    "    features[\"fw\"] = name[:2].lower()\n",
    "    features[\"lw\"] = name[-2:].lower()\n",
    "    features[\"fe\"] = name[2:4].lower()\n",
    "    features[\"le\"] = name[-2:-4].lower()\n",
    "    return features"
   ]
  },
  {
   "cell_type": "code",
   "execution_count": 10,
   "metadata": {},
   "outputs": [],
   "source": [
    "featuresets = [(gender_features4(n), g) for (n, g) in names]\n",
    "train_set, test_set = featuresets[1588:], featuresets[:1588]"
   ]
  },
  {
   "cell_type": "code",
   "execution_count": 11,
   "metadata": {},
   "outputs": [
    {
     "data": {
      "text/plain": [
       "7944"
      ]
     },
     "execution_count": 11,
     "metadata": {},
     "output_type": "execute_result"
    }
   ],
   "source": [
    "len(featuresets)"
   ]
  },
  {
   "cell_type": "code",
   "execution_count": 20,
   "metadata": {},
   "outputs": [],
   "source": [
    "from nltk import NaiveBayesClassifier as nb"
   ]
  },
  {
   "cell_type": "code",
   "execution_count": 14,
   "metadata": {},
   "outputs": [],
   "source": [
    "model=nb.train(train_set)"
   ]
  },
  {
   "cell_type": "code",
   "execution_count": 16,
   "metadata": {},
   "outputs": [],
   "source": [
    "from nltk import classify"
   ]
  },
  {
   "cell_type": "code",
   "execution_count": 17,
   "metadata": {},
   "outputs": [
    {
     "data": {
      "text/plain": [
       "0.825566750629723"
      ]
     },
     "execution_count": 17,
     "metadata": {},
     "output_type": "execute_result"
    }
   ],
   "source": [
    "classify.accuracy(model,test_set)"
   ]
  },
  {
   "cell_type": "code",
   "execution_count": 23,
   "metadata": {},
   "outputs": [
    {
     "data": {
      "text/plain": [
       "'male'"
      ]
     },
     "execution_count": 23,
     "metadata": {},
     "output_type": "execute_result"
    }
   ],
   "source": [
    "model.classify(gender_features4('akshat'))"
   ]
  },
  {
   "cell_type": "code",
   "execution_count": 21,
   "metadata": {},
   "outputs": [
    {
     "data": {
      "text/plain": [
       "'male'"
      ]
     },
     "execution_count": 21,
     "metadata": {},
     "output_type": "execute_result"
    }
   ],
   "source": [
    "model.classify(gender_features4('asher'))"
   ]
  },
  {
   "cell_type": "code",
   "execution_count": 22,
   "metadata": {},
   "outputs": [
    {
     "data": {
      "text/plain": [
       "'female'"
      ]
     },
     "execution_count": 22,
     "metadata": {},
     "output_type": "execute_result"
    }
   ],
   "source": [
    "model.classify(gender_features4('ruchika'))"
   ]
  },
  {
   "cell_type": "code",
   "execution_count": 24,
   "metadata": {},
   "outputs": [
    {
     "name": "stdout",
     "output_type": "stream",
     "text": [
      "  ==> Training (100 iterations)\n",
      "\n",
      "      Iteration    Log Likelihood    Accuracy\n",
      "      ---------------------------------------\n",
      "             1          -0.69315        0.371\n",
      "             2          -0.45107        0.781\n",
      "             3          -0.37919        0.830\n",
      "             4          -0.34118        0.838\n",
      "             5          -0.31803        0.845\n",
      "             6          -0.30247        0.847\n",
      "             7          -0.29124        0.850\n",
      "             8          -0.28271        0.851\n",
      "             9          -0.27597        0.852\n",
      "            10          -0.27049        0.855\n",
      "            11          -0.26591        0.857\n",
      "            12          -0.26203        0.859\n",
      "            13          -0.25867        0.859\n",
      "            14          -0.25573        0.859\n",
      "            15          -0.25313        0.860\n",
      "            16          -0.25080        0.860\n",
      "            17          -0.24871        0.861\n",
      "            18          -0.24681        0.861\n",
      "            19          -0.24508        0.863\n",
      "            20          -0.24350        0.864\n",
      "            21          -0.24204        0.865\n",
      "            22          -0.24068        0.865\n",
      "            23          -0.23943        0.865\n",
      "            24          -0.23826        0.865\n",
      "            25          -0.23717        0.866\n",
      "            26          -0.23614        0.866\n",
      "            27          -0.23518        0.866\n",
      "            28          -0.23428        0.866\n",
      "            29          -0.23342        0.866\n",
      "            30          -0.23261        0.866\n",
      "            31          -0.23185        0.866\n",
      "            32          -0.23112        0.867\n",
      "            33          -0.23043        0.866\n",
      "            34          -0.22977        0.867\n",
      "            35          -0.22915        0.866\n",
      "            36          -0.22855        0.867\n",
      "            37          -0.22798        0.867\n",
      "            38          -0.22743        0.867\n",
      "            39          -0.22691        0.867\n",
      "            40          -0.22640        0.866\n",
      "            41          -0.22592        0.867\n",
      "            42          -0.22546        0.867\n",
      "            43          -0.22501        0.867\n",
      "            44          -0.22458        0.868\n",
      "            45          -0.22417        0.868\n",
      "            46          -0.22377        0.867\n",
      "            47          -0.22338        0.868\n",
      "            48          -0.22301        0.868\n",
      "            49          -0.22265        0.868\n",
      "            50          -0.22231        0.868\n",
      "            51          -0.22197        0.868\n",
      "            52          -0.22164        0.868\n",
      "            53          -0.22133        0.868\n",
      "            54          -0.22103        0.868\n",
      "            55          -0.22073        0.868\n",
      "            56          -0.22044        0.868\n",
      "            57          -0.22017        0.868\n",
      "            58          -0.21990        0.868\n",
      "            59          -0.21963        0.868\n",
      "            60          -0.21938        0.867\n",
      "            61          -0.21913        0.867\n",
      "            62          -0.21889        0.867\n",
      "            63          -0.21866        0.867\n",
      "            64          -0.21843        0.867\n",
      "            65          -0.21821        0.868\n",
      "            66          -0.21799        0.868\n",
      "            67          -0.21778        0.868\n",
      "            68          -0.21757        0.868\n",
      "            69          -0.21737        0.868\n",
      "            70          -0.21718        0.868\n",
      "            71          -0.21699        0.868\n",
      "            72          -0.21680        0.868\n",
      "            73          -0.21662        0.868\n",
      "            74          -0.21644        0.869\n",
      "            75          -0.21627        0.869\n",
      "            76          -0.21610        0.869\n",
      "            77          -0.21594        0.869\n",
      "            78          -0.21578        0.869\n",
      "            79          -0.21562        0.869\n",
      "            80          -0.21546        0.869\n",
      "            81          -0.21531        0.869\n",
      "            82          -0.21516        0.869\n",
      "            83          -0.21502        0.869\n",
      "            84          -0.21488        0.869\n",
      "            85          -0.21474        0.870\n",
      "            86          -0.21460        0.870\n",
      "            87          -0.21447        0.870\n",
      "            88          -0.21434        0.870\n",
      "            89          -0.21421        0.870\n",
      "            90          -0.21409        0.870\n",
      "            91          -0.21397        0.870\n",
      "            92          -0.21385        0.870\n",
      "            93          -0.21373        0.870\n",
      "            94          -0.21361        0.870\n",
      "            95          -0.21350        0.870\n",
      "            96          -0.21339        0.870\n",
      "            97          -0.21328        0.870\n",
      "            98          -0.21317        0.870\n",
      "            99          -0.21307        0.870\n",
      "         Final          -0.21296        0.870\n"
     ]
    }
   ],
   "source": [
    "from nltk import MaxentClassifier\n",
    "me_classifier = MaxentClassifier.train(train_set)"
   ]
  },
  {
   "cell_type": "code",
   "execution_count": 29,
   "metadata": {},
   "outputs": [
    {
     "data": {
      "text/plain": [
       "'female'"
      ]
     },
     "execution_count": 29,
     "metadata": {},
     "output_type": "execute_result"
    }
   ],
   "source": [
    "me_classifier.classify(gender_features4('ravindra'))"
   ]
  },
  {
   "cell_type": "code",
   "execution_count": 25,
   "metadata": {},
   "outputs": [
    {
     "data": {
      "text/plain": [
       "0.8236775818639799"
      ]
     },
     "execution_count": 25,
     "metadata": {},
     "output_type": "execute_result"
    }
   ],
   "source": [
    "classify.accuracy(me_classifier,test_set)"
   ]
  },
  {
   "cell_type": "code",
   "execution_count": 27,
   "metadata": {},
   "outputs": [
    {
     "data": {
      "text/plain": [
       "'female'"
      ]
     },
     "execution_count": 27,
     "metadata": {},
     "output_type": "execute_result"
    }
   ],
   "source": [
    "me_classifier.classify(gender_features4('asher'))"
   ]
  },
  {
   "cell_type": "code",
   "execution_count": 51,
   "metadata": {},
   "outputs": [],
   "source": [
    "def gender_features5(name):\n",
    "    features = {}\n",
    "    features[\"fl\"] = name[0].lower()\n",
    "    features[\"ll\"] = name[-1].lower()\n",
    "    features[\"fw\"] = name[:2].lower()\n",
    "    features[\"lw\"] = name[-2:].lower()\n",
    "    features[\"fe\"] = name[2:5].lower()\n",
    "    features[\"le\"] = name[-2:-5].lower()\n",
    "    return features"
   ]
  },
  {
   "cell_type": "code",
   "execution_count": 52,
   "metadata": {},
   "outputs": [],
   "source": [
    "def feature(func):\n",
    "    featuresets = [(func(n), g) for (n, g) in names]\n",
    "    x=len(featuresets)\n",
    "    train_set, test_set = featuresets[round(x*0.8):], featuresets[:round(x*0.2)]\n",
    "    return train_set, test_set"
   ]
  },
  {
   "cell_type": "code",
   "execution_count": 53,
   "metadata": {},
   "outputs": [],
   "source": [
    "train_set, test_set=feature(gender_features5)"
   ]
  },
  {
   "cell_type": "code",
   "execution_count": 54,
   "metadata": {},
   "outputs": [],
   "source": [
    "model=nb.train(train_set)"
   ]
  },
  {
   "cell_type": "code",
   "execution_count": 55,
   "metadata": {},
   "outputs": [
    {
     "data": {
      "text/plain": [
       "0.8093140339836375"
      ]
     },
     "execution_count": 55,
     "metadata": {},
     "output_type": "execute_result"
    }
   ],
   "source": [
    "classify.accuracy(model,test_set)"
   ]
  },
  {
   "cell_type": "code",
   "execution_count": 56,
   "metadata": {},
   "outputs": [
    {
     "data": {
      "text/plain": [
       "'male'"
      ]
     },
     "execution_count": 56,
     "metadata": {},
     "output_type": "execute_result"
    }
   ],
   "source": [
    "model.classify(gender_features5('asher'))"
   ]
  },
  {
   "cell_type": "code",
   "execution_count": 60,
   "metadata": {},
   "outputs": [
    {
     "data": {
      "text/plain": [
       "'male'"
      ]
     },
     "execution_count": 60,
     "metadata": {},
     "output_type": "execute_result"
    }
   ],
   "source": [
    "model.classify(gender_features5('ravi'))"
   ]
  },
  {
   "cell_type": "code",
   "execution_count": null,
   "metadata": {},
   "outputs": [],
   "source": []
  }
 ],
 "metadata": {
  "kernelspec": {
   "display_name": "Python 3",
   "language": "python",
   "name": "python3"
  },
  "language_info": {
   "codemirror_mode": {
    "name": "ipython",
    "version": 3
   },
   "file_extension": ".py",
   "mimetype": "text/x-python",
   "name": "python",
   "nbconvert_exporter": "python",
   "pygments_lexer": "ipython3",
   "version": "3.6.5"
  }
 },
 "nbformat": 4,
 "nbformat_minor": 2
}
