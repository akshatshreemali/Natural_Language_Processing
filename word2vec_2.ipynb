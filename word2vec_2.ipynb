{
 "cells": [
  {
   "cell_type": "code",
   "execution_count": 1,
   "metadata": {},
   "outputs": [
    {
     "name": "stderr",
     "output_type": "stream",
     "text": [
      "C:\\Users\\Akshat\\Anaconda3\\lib\\site-packages\\gensim\\utils.py:860: UserWarning: detected Windows; aliasing chunkize to chunkize_serial\n",
      "  warnings.warn(\"detected Windows; aliasing chunkize to chunkize_serial\")\n"
     ]
    }
   ],
   "source": [
    "import time, random\n",
    "import numpy as np\n",
    "from gensim.models import word2vec\n",
    "\n",
    "from sklearn.neighbors import KDTree\n",
    "\n",
    "sentences = word2vec.Text8Corpus('C:/Users/Akshat/Downloads/text8/text8') # initializing the corpus into the memory\n",
    "model = word2vec.Word2Vec(sentences, size=200, workers=8)\n",
    "model.init_sims(replace=True)    # normalize the vectors\n",
    "\n"
   ]
  },
  {
   "cell_type": "code",
   "execution_count": 2,
   "metadata": {
    "collapsed": true
   },
   "outputs": [],
   "source": [
    "#(model.wv.vocab(),100)\n",
    "words = random.sample(model.wv.vocab.keys(),100)"
   ]
  },
  {
   "cell_type": "code",
   "execution_count": 3,
   "metadata": {
    "collapsed": true
   },
   "outputs": [],
   "source": [
    "class ANNSearch:\n",
    "    word2idx = {}\n",
    "    idx2word = {}\n",
    "    data = []\n",
    "\n",
    "    def __init__(self, model):\n",
    "        for counter, key in enumerate(model.wv.vocab.keys()):\n",
    "            self.data.append(model[key])\n",
    "            self.word2idx[key] = counter\n",
    "            self.idx2word[counter] = key\n",
    "\n",
    "        # leaf_size is a hyperparameter\n",
    "        self.data = np.array(self.data)\n",
    "        #self.tree=NearestNeighbors(n_neighbors=2, algorithm='ball_tree').fit(self.data)\n",
    "        self.tree = KDTree(self.data, leaf_size=100)\n",
    "        #NearestNeighbors(n_neighbors=2, algorithm='ball_tree').fit(b)\n",
    "        \n",
    "    def search_by_vector(self, v, k=10):\n",
    "        dists, inds = self.tree.query([v], k)\n",
    "        return (dists[0], [self.idx2word[idx] for idx in inds[0]])\n",
    "\n",
    "    def search(self, query, k=10):\n",
    "        vector = self.data[self.word2idx[query]]\n",
    "        return self.search_by_vector(vector, k)"
   ]
  },
  {
   "cell_type": "code",
   "execution_count": 4,
   "metadata": {},
   "outputs": [
    {
     "name": "stdout",
     "output_type": "stream",
     "text": [
      "time/query by (gensim's) Linear Search = 7.53 ms\n",
      "time/query by KDTree Search = 28.90 ms\n"
     ]
    }
   ],
   "source": [
    "# Linear Search\n",
    "start = time.time()\n",
    "for word in words:\n",
    "    model.most_similar(word, topn=10)\n",
    "stop = time.time()\n",
    "print(\"time/query by (gensim's) Linear Search = %.2f ms\" % (1000*float(stop-start)/len(words)))\n",
    "\n",
    "# KDTree Search\n",
    "search_model = ANNSearch(model)\n",
    "\n",
    "start = time.time()\n",
    "for word in words:\n",
    "    search_model.search(word, k=10)\n",
    "stop = time.time()\n",
    "print(\"time/query by KDTree Search = %.2f ms\" % (1000*float(stop-start)/len(words)))"
   ]
  },
  {
   "cell_type": "markdown",
   "metadata": {
    "collapsed": true
   },
   "source": [
    "# Testing of Word2vec "
   ]
  },
  {
   "cell_type": "code",
   "execution_count": 6,
   "metadata": {},
   "outputs": [
    {
     "data": {
      "text/plain": [
       "[('queen', 0.6789337396621704),\n",
       " ('prince', 0.67159503698349),\n",
       " ('kings', 0.6612266302108765),\n",
       " ('throne', 0.6527180075645447),\n",
       " ('emperor', 0.6159657835960388),\n",
       " ('vii', 0.6141725778579712),\n",
       " ('aragon', 0.6073325872421265),\n",
       " ('pharaoh', 0.6024001240730286),\n",
       " ('antiochus', 0.5994974374771118),\n",
       " ('judah', 0.595747172832489)]"
      ]
     },
     "execution_count": 6,
     "metadata": {},
     "output_type": "execute_result"
    }
   ],
   "source": [
    "model.most_similar(positive=['king'],topn=10)"
   ]
  },
  {
   "cell_type": "code",
   "execution_count": 5,
   "metadata": {},
   "outputs": [
    {
     "data": {
      "text/plain": [
       "[('queen', 0.6284703016281128),\n",
       " ('elizabeth', 0.5567423105239868),\n",
       " ('prince', 0.5491981506347656),\n",
       " ('princess', 0.5454338788986206),\n",
       " ('daughter', 0.5422555208206177),\n",
       " ('son', 0.5383399724960327),\n",
       " ('kings', 0.5379177331924438),\n",
       " ('throne', 0.5377295613288879),\n",
       " ('empress', 0.5331630110740662),\n",
       " ('pharaoh', 0.5235458612442017)]"
      ]
     },
     "execution_count": 5,
     "metadata": {},
     "output_type": "execute_result"
    }
   ],
   "source": [
    "model.most_similar(positive=[\"king\", \"woman\"], negative=[\"man\"],topn=10)"
   ]
  },
  {
   "cell_type": "code",
   "execution_count": 26,
   "metadata": {},
   "outputs": [
    {
     "data": {
      "text/plain": [
       "[('saucers', 0.5281133055686951),\n",
       " ('handakuten', 0.5269892811775208),\n",
       " ('furigana', 0.5177161693572998),\n",
       " ('animations', 0.5109993815422058),\n",
       " ('readymades', 0.5107326507568359),\n",
       " ('undeciphered', 0.508619487285614),\n",
       " ('logographic', 0.5051226615905762),\n",
       " ('chainmail', 0.5051131844520569),\n",
       " ('knotted', 0.5044553279876709),\n",
       " ('photorealistic', 0.5043172240257263)]"
      ]
     },
     "execution_count": 26,
     "metadata": {},
     "output_type": "execute_result"
    }
   ],
   "source": [
    "model.most_similar(positive=[\"burrito\", \"chinese\"], negative=[\"mexican\"])"
   ]
  },
  {
   "cell_type": "markdown",
   "metadata": {},
   "source": [
    "# Testing of KDD Tree algorithm"
   ]
  },
  {
   "cell_type": "code",
   "execution_count": 136,
   "metadata": {},
   "outputs": [
    {
     "data": {
      "text/html": [
       "<div>\n",
       "<style>\n",
       "    .dataframe thead tr:only-child th {\n",
       "        text-align: right;\n",
       "    }\n",
       "\n",
       "    .dataframe thead th {\n",
       "        text-align: left;\n",
       "    }\n",
       "\n",
       "    .dataframe tbody tr th {\n",
       "        vertical-align: top;\n",
       "    }\n",
       "</style>\n",
       "<table border=\"1\" class=\"dataframe\">\n",
       "  <thead>\n",
       "    <tr style=\"text-align: right;\">\n",
       "      <th></th>\n",
       "      <th>dist</th>\n",
       "      <th>word</th>\n",
       "    </tr>\n",
       "  </thead>\n",
       "  <tbody>\n",
       "    <tr>\n",
       "      <th>9</th>\n",
       "      <td>0.8965818068122031</td>\n",
       "      <td>duke</td>\n",
       "    </tr>\n",
       "    <tr>\n",
       "      <th>8</th>\n",
       "      <td>0.8831202030205509</td>\n",
       "      <td>elector</td>\n",
       "    </tr>\n",
       "    <tr>\n",
       "      <th>7</th>\n",
       "      <td>0.8800078612643552</td>\n",
       "      <td>regent</td>\n",
       "    </tr>\n",
       "    <tr>\n",
       "      <th>6</th>\n",
       "      <td>0.8548646067693157</td>\n",
       "      <td>vii</td>\n",
       "    </tr>\n",
       "    <tr>\n",
       "      <th>5</th>\n",
       "      <td>0.84263860929568</td>\n",
       "      <td>emperor</td>\n",
       "    </tr>\n",
       "    <tr>\n",
       "      <th>4</th>\n",
       "      <td>0.835833653538408</td>\n",
       "      <td>prince</td>\n",
       "    </tr>\n",
       "    <tr>\n",
       "      <th>3</th>\n",
       "      <td>0.831681865794242</td>\n",
       "      <td>queen</td>\n",
       "    </tr>\n",
       "    <tr>\n",
       "      <th>2</th>\n",
       "      <td>0.8253574871380506</td>\n",
       "      <td>throne</td>\n",
       "    </tr>\n",
       "    <tr>\n",
       "      <th>1</th>\n",
       "      <td>0.8241146960812941</td>\n",
       "      <td>kings</td>\n",
       "    </tr>\n",
       "    <tr>\n",
       "      <th>0</th>\n",
       "      <td>0.0</td>\n",
       "      <td>king</td>\n",
       "    </tr>\n",
       "  </tbody>\n",
       "</table>\n",
       "</div>"
      ],
      "text/plain": [
       "                 dist     word\n",
       "9  0.8965818068122031     duke\n",
       "8  0.8831202030205509  elector\n",
       "7  0.8800078612643552   regent\n",
       "6  0.8548646067693157      vii\n",
       "5    0.84263860929568  emperor\n",
       "4   0.835833653538408   prince\n",
       "3   0.831681865794242    queen\n",
       "2  0.8253574871380506   throne\n",
       "1  0.8241146960812941    kings\n",
       "0                 0.0     king"
      ]
     },
     "execution_count": 136,
     "metadata": {},
     "output_type": "execute_result"
    }
   ],
   "source": [
    "#a=search_model.search(\"king\",k=10)\n",
    "a=search_model.search(\"king\",k=10) # identifying the top 10 words closest to the word \"king\"\n",
    "b=pd.DataFrame(np.vstack(a).T,columns=['dist','word'])\n",
    "b=b.sort_values(by=[\"dist\"],ascending=False)\n",
    "b.head(10)"
   ]
  },
  {
   "cell_type": "markdown",
   "metadata": {
    "collapsed": true
   },
   "source": [
    "# Implementing Nearest Neighbour Algorithm"
   ]
  },
  {
   "cell_type": "code",
   "execution_count": 93,
   "metadata": {
    "collapsed": true
   },
   "outputs": [],
   "source": [
    "class ANNSearch:\n",
    "    word2idx = {}\n",
    "    idx2word = {}\n",
    "    data = []\n",
    "\n",
    "    def __init__(self, model):\n",
    "        for counter, key in enumerate(model.wv.vocab.keys()):\n",
    "            self.data.append(model[key])\n",
    "            self.word2idx[key] = counter\n",
    "            self.idx2word[counter] = key\n",
    "\n",
    "        # leaf_size is a hyperparameter\n",
    "        self.data = np.array(self.data)\n",
    "        self.tree=NearestNeighbors(n_neighbors=2, algorithm='ball_tree').fit(self.data)\n",
    "        \n",
    "    def search_by_vector_NN(self, v, k=3):\n",
    "        dists, inds = self.tree.radius_neighbors([v], k)\n",
    "        return (dists[0], [self.idx2word[idx] for idx in inds[0]])\n",
    "\n",
    "    def search_NN(self, radius_neighbors, k=3):\n",
    "        vector = self.data[self.word2idx[radius_neighbors]]\n",
    "        return self.search_by_vector_NN(vector, k)"
   ]
  },
  {
   "cell_type": "code",
   "execution_count": 94,
   "metadata": {},
   "outputs": [
    {
     "name": "stdout",
     "output_type": "stream",
     "text": [
      "time/query by NearestNeighbour Search = 67.92 ms\n"
     ]
    }
   ],
   "source": [
    "# NearestNeighbour Search\n",
    "search_model = ANNSearch(model)\n",
    "\n",
    "start = time.time()\n",
    "for word in words:\n",
    "    search_model.search_NN(word, k=3)\n",
    "stop = time.time()\n",
    "print(\"time/query by NearestNeighbour Search = %.2f ms\" % (1000*float(stop-start)/len(words)))"
   ]
  },
  {
   "cell_type": "code",
   "execution_count": 119,
   "metadata": {},
   "outputs": [
    {
     "data": {
      "text/html": [
       "<div>\n",
       "<style>\n",
       "    .dataframe thead tr:only-child th {\n",
       "        text-align: right;\n",
       "    }\n",
       "\n",
       "    .dataframe thead th {\n",
       "        text-align: left;\n",
       "    }\n",
       "\n",
       "    .dataframe tbody tr th {\n",
       "        vertical-align: top;\n",
       "    }\n",
       "</style>\n",
       "<table border=\"1\" class=\"dataframe\">\n",
       "  <thead>\n",
       "    <tr style=\"text-align: right;\">\n",
       "      <th></th>\n",
       "      <th>dist</th>\n",
       "      <th>word</th>\n",
       "    </tr>\n",
       "  </thead>\n",
       "  <tbody>\n",
       "    <tr>\n",
       "      <th>0</th>\n",
       "      <td>0.9817682219066718</td>\n",
       "      <td>anjou</td>\n",
       "    </tr>\n",
       "    <tr>\n",
       "      <th>1</th>\n",
       "      <td>0.9873020348396145</td>\n",
       "      <td>adolphus</td>\n",
       "    </tr>\n",
       "    <tr>\n",
       "      <th>2</th>\n",
       "      <td>0.9002145339624846</td>\n",
       "      <td>pope</td>\n",
       "    </tr>\n",
       "    <tr>\n",
       "      <th>3</th>\n",
       "      <td>0.9997684287292153</td>\n",
       "      <td>vi</td>\n",
       "    </tr>\n",
       "    <tr>\n",
       "      <th>4</th>\n",
       "      <td>0.9112023601387471</td>\n",
       "      <td>viii</td>\n",
       "    </tr>\n",
       "  </tbody>\n",
       "</table>\n",
       "</div>"
      ],
      "text/plain": [
       "                 dist      word\n",
       "0  0.9817682219066718     anjou\n",
       "1  0.9873020348396145  adolphus\n",
       "2  0.9002145339624846      pope\n",
       "3  0.9997684287292153        vi\n",
       "4  0.9112023601387471      viii"
      ]
     },
     "execution_count": 119,
     "metadata": {},
     "output_type": "execute_result"
    }
   ],
   "source": [
    "a=search_model.search_NN(\"king\",k=1) # searching the word \"king\" with radius of 1\n",
    "b=pd.DataFrame(np.vstack(a).T,columns=['dist','word'])\n",
    "b.head()"
   ]
  },
  {
   "cell_type": "code",
   "execution_count": 125,
   "metadata": {},
   "outputs": [
    {
     "data": {
      "text/html": [
       "<div>\n",
       "<style>\n",
       "    .dataframe thead tr:only-child th {\n",
       "        text-align: right;\n",
       "    }\n",
       "\n",
       "    .dataframe thead th {\n",
       "        text-align: left;\n",
       "    }\n",
       "\n",
       "    .dataframe tbody tr th {\n",
       "        vertical-align: top;\n",
       "    }\n",
       "</style>\n",
       "<table border=\"1\" class=\"dataframe\">\n",
       "  <thead>\n",
       "    <tr style=\"text-align: right;\">\n",
       "      <th></th>\n",
       "      <th>dist</th>\n",
       "      <th>word</th>\n",
       "    </tr>\n",
       "  </thead>\n",
       "  <tbody>\n",
       "    <tr>\n",
       "      <th>0</th>\n",
       "      <td>0.9817682219066718</td>\n",
       "      <td>anjou</td>\n",
       "    </tr>\n",
       "    <tr>\n",
       "      <th>1</th>\n",
       "      <td>0.9873020348396145</td>\n",
       "      <td>adolphus</td>\n",
       "    </tr>\n",
       "    <tr>\n",
       "      <th>2</th>\n",
       "      <td>0.9002145339624846</td>\n",
       "      <td>pope</td>\n",
       "    </tr>\n",
       "    <tr>\n",
       "      <th>3</th>\n",
       "      <td>0.9997684287292153</td>\n",
       "      <td>vi</td>\n",
       "    </tr>\n",
       "    <tr>\n",
       "      <th>4</th>\n",
       "      <td>0.9112023601387471</td>\n",
       "      <td>viii</td>\n",
       "    </tr>\n",
       "    <tr>\n",
       "      <th>5</th>\n",
       "      <td>0.9984750279518773</td>\n",
       "      <td>jeroboam</td>\n",
       "    </tr>\n",
       "    <tr>\n",
       "      <th>6</th>\n",
       "      <td>0.9824305728046298</td>\n",
       "      <td>tyrant</td>\n",
       "    </tr>\n",
       "    <tr>\n",
       "      <th>7</th>\n",
       "      <td>0.9969114910246701</td>\n",
       "      <td>grandson</td>\n",
       "    </tr>\n",
       "    <tr>\n",
       "      <th>8</th>\n",
       "      <td>0.9929985222369688</td>\n",
       "      <td>menelik</td>\n",
       "    </tr>\n",
       "    <tr>\n",
       "      <th>9</th>\n",
       "      <td>0.9446761171339255</td>\n",
       "      <td>empress</td>\n",
       "    </tr>\n",
       "  </tbody>\n",
       "</table>\n",
       "</div>"
      ],
      "text/plain": [
       "                 dist      word\n",
       "0  0.9817682219066718     anjou\n",
       "1  0.9873020348396145  adolphus\n",
       "2  0.9002145339624846      pope\n",
       "3  0.9997684287292153        vi\n",
       "4  0.9112023601387471      viii\n",
       "5  0.9984750279518773  jeroboam\n",
       "6  0.9824305728046298    tyrant\n",
       "7  0.9969114910246701  grandson\n",
       "8  0.9929985222369688   menelik\n",
       "9  0.9446761171339255   empress"
      ]
     },
     "execution_count": 125,
     "metadata": {},
     "output_type": "execute_result"
    }
   ],
   "source": [
    "#b.loc[b.dist==max(b.dist),]\n",
    "b.sort_values(by=[\"dist\"],ascending=False)\n",
    "b.head(10)"
   ]
  },
  {
   "cell_type": "code",
   "execution_count": null,
   "metadata": {
    "collapsed": true
   },
   "outputs": [],
   "source": []
  }
 ],
 "metadata": {
  "kernelspec": {
   "display_name": "Python 3",
   "language": "python",
   "name": "python3"
  },
  "language_info": {
   "codemirror_mode": {
    "name": "ipython",
    "version": 3
   },
   "file_extension": ".py",
   "mimetype": "text/x-python",
   "name": "python",
   "nbconvert_exporter": "python",
   "pygments_lexer": "ipython3",
   "version": "3.6.1"
  }
 },
 "nbformat": 4,
 "nbformat_minor": 2
}
